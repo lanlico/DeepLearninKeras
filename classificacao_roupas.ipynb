{
  "nbformat": 4,
  "nbformat_minor": 0,
  "metadata": {
    "colab": {
      "name": "classificacao_roupas.ipynb",
      "version": "0.3.2",
      "provenance": [],
      "collapsed_sections": [],
      "include_colab_link": true
    },
    "kernelspec": {
      "name": "python3",
      "display_name": "Python 3"
    }
  },
  "cells": [
    {
      "cell_type": "markdown",
      "metadata": {
        "id": "view-in-github",
        "colab_type": "text"
      },
      "source": [
        "<a href=\"https://colab.research.google.com/github/lanlico/DeepLearninKeras/blob/master/classificacao_roupas.ipynb\" target=\"_parent\"><img src=\"https://colab.research.google.com/assets/colab-badge.svg\" alt=\"Open In Colab\"/></a>"
      ]
    },
    {
      "metadata": {
        "id": "pIh9R9nHIG4x",
        "colab_type": "text"
      },
      "cell_type": "markdown",
      "source": [
        "Importação dos dados"
      ]
    },
    {
      "metadata": {
        "id": "S357-t48Gj1U",
        "colab_type": "code",
        "colab": {}
      },
      "cell_type": "code",
      "source": [
        "import tensorflow\n",
        "from tensorflow import keras\n",
        "import matplotlib.pyplot as plt\n",
        "import numpy as np\n",
        "from tensorflow.keras.models import load_model"
      ],
      "execution_count": 0,
      "outputs": []
    },
    {
      "metadata": {
        "id": "Ig8xWGApIOGA",
        "colab_type": "text"
      },
      "cell_type": "markdown",
      "source": [
        "Carregando o dataset"
      ]
    },
    {
      "metadata": {
        "id": "MrClyc3JLdua",
        "colab_type": "code",
        "colab": {}
      },
      "cell_type": "code",
      "source": [
        "dataset = keras.datasets.fashion_mnist\n",
        "((x_treino, y_treino),(x_testes, y_testes)) = dataset.load_data()"
      ],
      "execution_count": 0,
      "outputs": []
    },
    {
      "metadata": {
        "id": "iCclZgm6IP_-",
        "colab_type": "text"
      },
      "cell_type": "markdown",
      "source": [
        "Exploração dos dados"
      ]
    },
    {
      "metadata": {
        "id": "zt6sPbw9N1TP",
        "colab_type": "code",
        "outputId": "e71ed0ff-4e15-401b-d1a2-63e09b6a6a19",
        "colab": {
          "base_uri": "https://localhost:8080/",
          "height": 34
        }
      },
      "cell_type": "code",
      "source": [
        "len(x_treino)\n",
        "x_treino.shape\n",
        "len(x_testes)\n",
        "x_testes.shape\n",
        "len(y_treino)\n",
        "y_treino[1000]\n",
        "y_treino.shape\n",
        "y_treino.max()\n",
        "y_treino.min()"
      ],
      "execution_count": 3,
      "outputs": [
        {
          "output_type": "execute_result",
          "data": {
            "text/plain": [
              "0"
            ]
          },
          "metadata": {
            "tags": []
          },
          "execution_count": 3
        }
      ]
    },
    {
      "metadata": {
        "id": "7GfxodJ6ITLO",
        "colab_type": "text"
      },
      "cell_type": "markdown",
      "source": [
        "Exibição dos dados"
      ]
    },
    {
      "metadata": {
        "id": "h-Xra0Hp2eQw",
        "colab_type": "code",
        "colab": {}
      },
      "cell_type": "code",
      "source": [
        "total_classificacoes = 10\n",
        "plt.imshow(x_treino[0])\n",
        "plt.title(y_treino[0])\n",
        "nomes_de_classificacoes = ['Camiseta', 'Calça', 'Pullover',\n",
        "                           'Vestido', 'Casaco', 'Sandalia', \n",
        "                           'Camisa', 'Tenis', 'Bolsa', 'Bota']\n",
        "\n",
        "'''for imagem in range(10):\n",
        "   plt.subplot(2,5, imagem+1)\n",
        "   plt.imshow(x_treino[imagem])\n",
        "   plt.title(nomes_de_classificacoes[y_treino[imagem]])'''\n",
        "\n",
        "#verificando as cores das imagens\n",
        "plt.imshow(x_treino[0])\n",
        "plt.colorbar()\n"
      ],
      "execution_count": 0,
      "outputs": []
    },
    {
      "metadata": {
        "id": "F0mXw5Y_VcRg",
        "colab_type": "text"
      },
      "cell_type": "markdown",
      "source": [
        "Normalizando as imagens"
      ]
    },
    {
      "metadata": {
        "id": "53LM4lLhVeZM",
        "colab_type": "code",
        "colab": {}
      },
      "cell_type": "code",
      "source": [
        "#Tinhamos as imagens com 255 escalara de cores variando entre 0 e 255. Agora dividimos os pixels para que ela possa variar entre 0 e 1. Fica mais fácil variar entre 0 e 1 do que 0 e 255. \n",
        "#processo de normalização\n",
        "x_treino = x_treino/float(255)"
      ],
      "execution_count": 0,
      "outputs": []
    },
    {
      "metadata": {
        "id": "mpgGccyFJH_Y",
        "colab_type": "text"
      },
      "cell_type": "markdown",
      "source": [
        "Criando, compilando, treinando e normalizando o modelo\n",
        "\n",
        "Uso de Dropout e Validation"
      ]
    },
    {
      "metadata": {
        "id": "PlKq6qbXIbmk",
        "colab_type": "code",
        "colab": {}
      },
      "cell_type": "code",
      "source": [
        "#entrada\n",
        "modelo = keras.Sequential([\n",
        "    keras.layers.Flatten(input_shape=(28,28)),\n",
        "    keras.layers.Dense(256, activation=tensorflow.nn.relu),\n",
        "    keras.layers.Dropout(0.2),\n",
        "    keras.layers.Dense(10, activation=tensorflow.nn.softmax)\n",
        "])\n",
        "\n",
        "#processamento\n",
        "modelo.compile(optimizer='adam', loss='sparse_categorical_crossentropy', metrics=['accuracy'])\n",
        "\n",
        "#saida\n",
        "historico = modelo.fit(x_treino, y_treino, epochs=6, validation_split=0.2)"
      ],
      "execution_count": 0,
      "outputs": []
    },
    {
      "metadata": {
        "id": "sRHZCXKgV7nQ",
        "colab_type": "text"
      },
      "cell_type": "markdown",
      "source": [
        "Salvando e carregando o modelo treinado"
      ]
    },
    {
      "metadata": {
        "id": "NLvbog54ScTD",
        "colab_type": "code",
        "colab": {}
      },
      "cell_type": "code",
      "source": [
        "#Salvando o modelo\n",
        "modelo.save('modelo.h5')\n",
        "modelo_salvo = load_model('modelo.h5')"
      ],
      "execution_count": 0,
      "outputs": []
    },
    {
      "metadata": {
        "id": "_RHF-ikTWI30",
        "colab_type": "text"
      },
      "cell_type": "markdown",
      "source": [
        "Visualizando a acurácia por epochs com os dados de treino e validação"
      ]
    },
    {
      "metadata": {
        "id": "4PaBFO6rOSMS",
        "colab_type": "code",
        "colab": {}
      },
      "cell_type": "code",
      "source": [
        "#Gráfico de acuracia por epochs com os dados de treino e validation\n",
        "plt.plot(historico.history['acc'])\n",
        "plt.plot(historico.history['val_acc'])\n",
        "plt.title('Acurácia por epochs')\n",
        "plt.xlabel('Epochs')\n",
        "plt.ylabel('Acurácia')\n",
        "plt.legend(['Treino', 'Validação'])"
      ],
      "execution_count": 0,
      "outputs": []
    },
    {
      "metadata": {
        "id": "JFzytp6dWUYM",
        "colab_type": "text"
      },
      "cell_type": "markdown",
      "source": [
        "Visualizando a perda por epochs com os dados de treino e validação"
      ]
    },
    {
      "metadata": {
        "id": "5U-sWjv3P04s",
        "colab_type": "code",
        "colab": {}
      },
      "cell_type": "code",
      "source": [
        "#Gráfico de perda por epochs com os dados de treino e validation\n",
        "plt.plot(historico.history['loss'])\n",
        "plt.plot(historico.history['val_loss'])\n",
        "plt.title('Perda por epochs')\n",
        "plt.xlabel('Epochs')\n",
        "plt.ylabel('Perda')\n",
        "plt.legend(['Treino', 'Validação'])"
      ],
      "execution_count": 0,
      "outputs": []
    },
    {
      "metadata": {
        "id": "NEaLKL8AWgED",
        "colab_type": "text"
      },
      "cell_type": "markdown",
      "source": [
        "Testando o modelo e o modelo salvo"
      ]
    },
    {
      "metadata": {
        "id": "IC3CKZDRju98",
        "colab_type": "code",
        "colab": {}
      },
      "cell_type": "code",
      "source": [
        "testes = modelo.predict(x_treino)\n",
        "print('Resultado do teste: ', np.argmax(testes[2]))\n",
        "print('Número da image de teste: ' , y_testes[2])\n",
        "\n",
        "testes_modelo_salvo = modelo_salvo.predict(x_treino)\n",
        "print('Resultado do teste: ', np.argmax(testes_modelo_salvo[2]))\n",
        "print('Número da image de teste: ' , y_testes[2])"
      ],
      "execution_count": 0,
      "outputs": []
    },
    {
      "metadata": {
        "id": "SrtBw9JpWlyW",
        "colab_type": "text"
      },
      "cell_type": "markdown",
      "source": [
        "Avaliando o modelo "
      ]
    },
    {
      "metadata": {
        "id": "Hq6TUOROkmHs",
        "colab_type": "code",
        "colab": {}
      },
      "cell_type": "code",
      "source": [
        "perda_teste, acuracia_teste = modelo.evaluate(x_testes, y_testes)\n",
        "print('Perda do teste: ', perda_teste)\n",
        "print('Acurácia do teste: ', acuracia_teste)"
      ],
      "execution_count": 0,
      "outputs": []
    }
  ]
}